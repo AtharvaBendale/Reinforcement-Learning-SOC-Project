{
 "cells": [
  {
   "cell_type": "code",
   "execution_count": 13,
   "metadata": {},
   "outputs": [],
   "source": [
    "from IPython.display import display, clear_output\n",
    "from game import Game\n",
    "import chess.svg\n",
    "from chess import Move\n",
    "import torch\n",
    "from model import CustomModel\n",
    "id = 1"
   ]
  },
  {
   "cell_type": "code",
   "execution_count": null,
   "metadata": {},
   "outputs": [],
   "source": [
    "model = CustomModel()\n",
    "model.load_state_dict(torch.load(\"./model.pth\"))\n",
    "game = Game(model)\n",
    "while not game.terminated()[0]:\n",
    "    player_move = input(\"Enter the move : \")\n",
    "    clear_output()\n",
    "    game.make_move(Move.from_uci(player_move))\n",
    "    board_svg = chess.svg.board(board=game.board)\n",
    "    display(board_svg)\n",
    "    id += 1"
   ]
  }
 ],
 "metadata": {
  "kernelspec": {
   "display_name": "Python 3",
   "language": "python",
   "name": "python3"
  },
  "language_info": {
   "codemirror_mode": {
    "name": "ipython",
    "version": 3
   },
   "file_extension": ".py",
   "mimetype": "text/x-python",
   "name": "python",
   "nbconvert_exporter": "python",
   "pygments_lexer": "ipython3",
   "version": "3.10.6"
  },
  "orig_nbformat": 4
 },
 "nbformat": 4,
 "nbformat_minor": 2
}
